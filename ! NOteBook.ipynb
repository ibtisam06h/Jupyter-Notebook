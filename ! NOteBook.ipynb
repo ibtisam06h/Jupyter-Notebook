{
  "metadata": {
    "kernelspec": {
      "name": "python",
      "display_name": "Pyolite",
      "language": "python"
    },
    "language_info": {
      "codemirror_mode": {
        "name": "python",
        "version": 3
      },
      "file_extension": ".py",
      "mimetype": "text/x-python",
      "name": "python",
      "nbconvert_exporter": "python",
      "pygments_lexer": "ipython3",
      "version": "3.8"
    }
  },
  "nbformat_minor": 4,
  "nbformat": 4,
  "cells": [
    {
      "cell_type": "markdown",
      "source": "<center>\n    <img src=\"https://cf-courses-data.s3.us.cloud-object-storage.appdomain.cloud/IBMDeveloperSkillsNetwork-DS0105EN-SkillsNetwork/labs/Module2/images/SN_web_lightmode.png\" width=\"300\" alt=\"cognitiveclass.ai logo\">\n</center>\n",
      "metadata": {}
    },
    {
      "cell_type": "markdown",
      "source": "# My Jupyter Notebook on IBM Watson Studio",
      "metadata": {}
    },
    {
      "cell_type": "markdown",
      "source": "<b>MUHAMMAD IBTISAM</b>\n (Student Of Chemical Engineering)",
      "metadata": {}
    },
    {
      "cell_type": "markdown",
      "source": "# Introduction\n*I am interested in Data Scienence because I want to play with a huge or a large amount of data*\n*I love to bea Data Scientist*",
      "metadata": {}
    },
    {
      "cell_type": "markdown",
      "source": "### Addition",
      "metadata": {
        "tags": []
      }
    },
    {
      "cell_type": "code",
      "source": "x = 1\ny = 1\nz=x+y\nprint(\"=\",z)",
      "metadata": {
        "trusted": true
      },
      "execution_count": 14,
      "outputs": [
        {
          "name": "stdout",
          "text": "= 2\n",
          "output_type": "stream"
        }
      ]
    },
    {
      "cell_type": "markdown",
      "source": "## My Favorite Things\n(bulleted list)\n* Coffee\n* Chocolate\n* Hiking",
      "metadata": {}
    },
    {
      "cell_type": "markdown",
      "source": "## Numbered List\n1. Yosemite National Park\n2. Grand Canyon National Park\n3. Rocky Mountain National Park",
      "metadata": {}
    },
    {
      "cell_type": "code",
      "source": "def greet(name):\n    print(f\"Hello, {name}!\")\n    \ngreet(\"World\")\n",
      "metadata": {
        "trusted": true
      },
      "execution_count": 22,
      "outputs": [
        {
          "name": "stdout",
          "text": "Hello, World!\n",
          "output_type": "stream"
        }
      ]
    },
    {
      "cell_type": "markdown",
      "source": "## Data Science Languages\n1. Python\n2. Jupyter\n3. SQL\n4. R",
      "metadata": {}
    },
    {
      "cell_type": "markdown",
      "source": "## Data Science Libraries\n1. PyTorch\n2. TensorFlow\n3. Theano",
      "metadata": {}
    },
    {
      "cell_type": "markdown",
      "source": "## Table Of Data Science Tools\n1. Excel\n2. TensorFlow\n3. Tableow",
      "metadata": {}
    },
    {
      "cell_type": "markdown",
      "source": "## Arthematic Mean Examples\n1. 2 + 3\n2. 7 - 5\n3. 4 * 6\n4. 10 / 2\n5. (3 + 4) * 5\n6. 8 / (2 + 2)\n7. 2^3 (2 raised to the power of 3)\n8. 10 % 3 (10 modulo 3 - the remainder when 10 is divided by 3)\n9. sqrt(16) (square root of 16)\n10. log10(100) (log base 10 of 100)",
      "metadata": {}
    },
    {
      "cell_type": "code",
      "source": "# multiplication and addition\n\na = 5\nb = 7\nc = 2\n\n# multiply a and b\nresult1 = a * b\n\n# add b and c\nresult2 = b + c\n\n# print the results\nprint(\"The result of a times b is:\", result1)\nprint(\"The result of b plus c is:\", result2)\n",
      "metadata": {
        "trusted": true
      },
      "execution_count": 4,
      "outputs": [
        {
          "name": "stdout",
          "text": "The result of a times b is: 35\nThe result of b plus c is: 9\n",
          "output_type": "stream"
        }
      ]
    },
    {
      "cell_type": "code",
      "source": "# multiplication ND ddition\n\na = 67\nb = 89\nc = 44\n\n# multiply a and b\nresult1= a * b\n\n# add a and b\nresult2= a + b + c\n\n#print results\nprint(\"1.\",result1)\nprint(\"2.\",result2)\n",
      "metadata": {
        "trusted": true
      },
      "execution_count": 6,
      "outputs": [
        {
          "name": "stdout",
          "text": "1. 5963\n2. 200\n",
          "output_type": "stream"
        }
      ]
    },
    {
      "cell_type": "markdown",
      "source": "## Minutes into hours",
      "metadata": {}
    },
    {
      "cell_type": "code",
      "source": "# convert minutes to hours\n\nminutes = 125\n\n# divide minutes by 60 to get hours\nhours = minutes / 60\n\n# print the result\nprint(minutes, \"minutes is equal to\", hours, \"hours\")\n",
      "metadata": {
        "trusted": true
      },
      "execution_count": 7,
      "outputs": [
        {
          "name": "stdout",
          "text": "125 minutes is equal to 2.0833333333333335 hours\n",
          "output_type": "stream"
        }
      ]
    },
    {
      "cell_type": "code",
      "source": "# convert seconds into hours\n\nseconds = 84600\n\n# divide seconds by 60 to get minutes\nminutes= seconds/60\n\n# divide minutes by 60 to get hours'\nhours= minutes/60\n\n# divide hours by 24 to get days\ndays= hours/24\n\n# print the results\nprint(\"1.\",hours)",
      "metadata": {
        "trusted": true
      },
      "execution_count": 11,
      "outputs": [
        {
          "name": "stdout",
          "text": "1. 23.5\n",
          "output_type": "stream"
        }
      ]
    },
    {
      "cell_type": "markdown",
      "source": "# List Of Objectives\n1. Minutes into Hours\n2. Multiplication ANd Addition\n3. Arthimatic Mean Example\n4. Table Of DAta Science Tools\n5. Data Science Libraries\n6. Data Science LAnguages\n7. Numbered Lists\n8. My Favorite Things\n9. Addition",
      "metadata": {}
    },
    {
      "cell_type": "markdown",
      "source": "### *AUTHORS NAME*\n#            MUHAMMAD IBTISAM",
      "metadata": {}
    },
    {
      "cell_type": "code",
      "source": "",
      "metadata": {},
      "execution_count": null,
      "outputs": []
    }
  ]
}